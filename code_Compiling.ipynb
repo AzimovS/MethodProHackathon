{
  "cells": [
    {
      "metadata": {
        "_uuid": "8f2839f25d086af736a60e9eeb907d3b93b6e0e5",
        "_cell_guid": "b1076dfc-b9ad-4769-8c92-a6c4dae69d19",
        "trusted": true,
        "collapsed": true
      },
      "cell_type": "code",
      "source": "import pandas as pd\nimport numpy as np \nimport re\nimport json \nimport copy\nfrom nltk import word_tokenize\nfrom nltk.corpus import stopwords\nfrom scipy import sparse\nfrom sklearn.metrics import accuracy_score, classification_report\nfrom sklearn.preprocessing import LabelEncoder\nfrom sklearn.feature_extraction.text import TfidfVectorizer\nfrom sklearn.base import BaseEstimator, ClassifierMixin\nfrom sklearn.pipeline import Pipeline\nfrom sklearn.svm import LinearSVC\nfrom sklearn.model_selection import train_test_split",
      "execution_count": null,
      "outputs": []
    },
    {
      "metadata": {
        "_cell_guid": "79c7e3d0-c299-4dcb-8224-4455121ee9b0",
        "_uuid": "d629ff2d2480ee46fbb7e2d37f6b5fab8052498a",
        "trusted": true,
        "collapsed": true
      },
      "cell_type": "code",
      "source": "with open(\"../input/sentiment/train.json\") as f:\n    raw_train = json.load(f)\nwith open(\"../input/sentiment/test.json\") as f:\n    raw_test = json.load(f)",
      "execution_count": null,
      "outputs": []
    },
    {
      "metadata": {
        "trusted": true,
        "collapsed": true,
        "_uuid": "d75c249469fe60d87a8211a4f96fb46f9b086498"
      },
      "cell_type": "code",
      "source": "def ru_token(string):\n    return[i for i in word_tokenize(string) if re.match(r'[\\u0400-\\u04ffа́]+$', i)]",
      "execution_count": null,
      "outputs": []
    },
    {
      "metadata": {
        "trusted": true,
        "_uuid": "ae7ee835f3d778740bdea70594e5b6b16c4185eb",
        "collapsed": true
      },
      "cell_type": "code",
      "source": "tfidf = TfidfVectorizer(ngram_range=(1, 3), tokenizer=ru_token, stop_words=stopwords.words('russian'), min_df =3, use_idf=1, smooth_idf=1, sublinear_tf=1)",
      "execution_count": null,
      "outputs": []
    },
    {
      "metadata": {
        "trusted": true,
        "_uuid": "b43599e4833d39b3d2ef66dc62af753455a32f16",
        "collapsed": true
      },
      "cell_type": "code",
      "source": "tfidf.fit([i['text'] for i in raw_train + raw_test])",
      "execution_count": null,
      "outputs": []
    },
    {
      "metadata": {
        "trusted": true,
        "_uuid": "b1eb7fa6933461710a52ca8df66680f45f4b704b",
        "collapsed": true
      },
      "cell_type": "code",
      "source": "class NBFeaturer(BaseEstimator, ClassifierMixin):\n    def __init__(self, alpha):\n        self.alpha = alpha\n\n    def preprocess_x(self, x, r):\n        return x.multiply(r)\n\n    def transform(self, x):\n        x_nb = self.preprocess_x(x, self._r)\n        return x_nb\n\n    def fit(self, x, y):\n        self._r = sparse.csr_matrix(np.log(self.pr(x, 1, y) / self.pr(x, 0, y)))\n        return self\n\n    def pr(self, x, y_i, y):\n        p = x[y == y_i].sum(0)\n        return (p + self.alpha) / ((y == y_i).sum() + self.alpha)",
      "execution_count": null,
      "outputs": []
    },
    {
      "metadata": {
        "trusted": true,
        "_uuid": "91e84e6a17cf17d53b78de351164eefec85e053d",
        "collapsed": true
      },
      "cell_type": "code",
      "source": "nbf = NBFeaturer(alpha=5)\nmodel = LinearSVC(C=4, max_iter=50)\n\np = pipeline = Pipeline([\n    ('nbf', nbf),\n    ('lr', model)\n])",
      "execution_count": null,
      "outputs": []
    },
    {
      "metadata": {
        "trusted": true,
        "_uuid": "790a254bda2ff6f766224a3b749ef1b5d0e3b0b5",
        "collapsed": true
      },
      "cell_type": "code",
      "source": "train, val = train_test_split(raw_train, test_size=0.2, random_state=1900)",
      "execution_count": null,
      "outputs": []
    },
    {
      "metadata": {
        "trusted": true,
        "collapsed": true,
        "_uuid": "d42e420ba01424d7d4f88241b595c34dc71993b7"
      },
      "cell_type": "code",
      "source": "train_x = tfidf.transform([i['text'] for i in train])\nlab = LabelEncoder()\nlab.fit([i['sentiment'] for i in raw_train])\ntrain_y = []\nfor i in range(3):\n    train_y.append((lab.transform([d['sentiment'] for d in train]) == i).astype(int))\nval_x = tfidf.transform([d['text'] for d in val])\nval_y = lab.transform([d['sentiment'] for d in val])\ntest_x = tfidf.transform([i['text'] for i in raw_test])",
      "execution_count": null,
      "outputs": []
    },
    {
      "metadata": {
        "trusted": true,
        "collapsed": true,
        "_uuid": "b6f0e5829456b8fb2123f83812e62fce309b03e1"
      },
      "cell_type": "code",
      "source": "a = lab.fit_transform([i['sentiment'] for i in raw_train])\nw = [(len(a) - np.sum(a == i))/(2 * np.sum(a == i)) for i in range(max(a)+1)]",
      "execution_count": null,
      "outputs": []
    },
    {
      "metadata": {
        "trusted": true,
        "_uuid": "a239c640c09f8a987beee32cf49f56c79546c907",
        "collapsed": true
      },
      "cell_type": "code",
      "source": "pred = []\ntest_pred = []\nfor i in range(3):\n    p.get_params()['lr'].class_weight = {0: 1, 1:w[i] }\n    p.fit(train_x, train_y[i])\n    pred.append(p.decision_function(val_x))\n    test_pred.append(p.decision_function(test_x))",
      "execution_count": null,
      "outputs": []
    },
    {
      "metadata": {
        "trusted": true,
        "_uuid": "f9bd6454b9ec74926a17a79c08e8a75bc54c9bc9",
        "collapsed": true
      },
      "cell_type": "code",
      "source": "accuracy_score(val_y, np.argmax(np.array(pred), axis=0))",
      "execution_count": null,
      "outputs": []
    },
    {
      "metadata": {
        "trusted": true,
        "_uuid": "4344eac514d746578cad6be041e21ddfb9b5a9fc",
        "collapsed": true
      },
      "cell_type": "code",
      "source": "print(classification_report(val_y, np.argmax(np.array(pred), axis=0), target_names=lab.classes_, digits=5))",
      "execution_count": null,
      "outputs": []
    },
    {
      "metadata": {
        "trusted": true,
        "collapsed": true,
        "_uuid": "6952d6e498f6619e1a2a14c5195bc11244133294"
      },
      "cell_type": "code",
      "source": "sub_df = pd.DataFrame()\nsub_df['id'] =  [i['id'] for i in raw_test]\nsub_df['sentiment'] = np.argmax(np.array(test_pred), axis=0)\nsub_df['sentiment']= sub_df['sentiment'].apply(lambda x: lab.classes_[x])",
      "execution_count": null,
      "outputs": []
    },
    {
      "metadata": {
        "trusted": true,
        "collapsed": true,
        "_uuid": "cfd1249368251e1e393eb0f0d95ead1fe42cbffe"
      },
      "cell_type": "code",
      "source": "sub_df.to_csv('nb.csv', index=False)",
      "execution_count": null,
      "outputs": []
    }
  ],
  "metadata": {
    "kernelspec": {
      "display_name": "Python 3",
      "language": "python",
      "name": "python3"
    },
    "language_info": {
      "name": "python",
      "version": "3.6.5",
      "mimetype": "text/x-python",
      "codemirror_mode": {
        "name": "ipython",
        "version": 3
      },
      "pygments_lexer": "ipython3",
      "nbconvert_exporter": "python",
      "file_extension": ".py"
    }
  },
  "nbformat": 4,
  "nbformat_minor": 1
}